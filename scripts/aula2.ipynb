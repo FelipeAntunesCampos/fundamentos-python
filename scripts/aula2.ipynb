{
 "cells": [
  {
   "cell_type": "code",
   "execution_count": null,
   "metadata": {
    "id": "WbYYdlEQF6FK"
   },
   "outputs": [],
   "source": []
  },
  {
   "cell_type": "code",
   "execution_count": null,
   "metadata": {
    "id": "D_nRUZdv1I7O"
   },
   "outputs": [],
   "source": [
    "#Código para verificar a versão do python\n",
    "'''\n",
    "Código para verificaar a versão do python\n",
    "'''\n",
    "!python -V\n",
    "\n",
    "print('Hello world!')\n",
    "\n",
    "#Soma\n",
    "print(4 + 4)\n",
    "\n",
    "#Subtração\n",
    "print(5 - 3)\n",
    "\n",
    "#Multiplicação\n",
    "print(5 * 3)\n",
    "\n",
    "#Divisão\n",
    "print(20 / 5)\n",
    "\n",
    "#Potência\n",
    "print(3**3)\n",
    "\n",
    "#Módulo\n",
    "print(20 % 2)\n",
    "\n",
    "#saber o tipo da variável\n",
    "\n",
    "print(type(5))\n",
    "\n",
    "print(type(10.0))\n",
    "\n",
    "print(type('Python'))\n",
    "\n",
    "print(type('W'))\n",
    "\n",
    "print(type(True))\n",
    "\n",
    "#Arredondar o valor\n",
    "print(round(10.23743842, 3))\n",
    "\n",
    "#Potência\n",
    "print(pow(2,3))\n",
    "\n",
    "#Com variáveis\n",
    "velocidade = 10\n",
    "tempo = 10\n",
    "\n",
    "print(velocidade)\n",
    "print(tempo)\n",
    "\n",
    "#Sem variáveis\n",
    "print(10 * 5)\n",
    "\n",
    "#Com variáveis\n",
    "velocidade = 10\n",
    "tempo = 5\n",
    "distancia = velocidade * tempo\n",
    "print(distancia)\n",
    "\n",
    "#Exemplo de tipagem dinâmica\n",
    "x = 10 #x é um inteiro\n",
    "print(x)\n",
    "print(type(x))\n",
    "\n",
    "x = \"hello\" # x agora é uma string\n",
    "print(x)\n",
    "print(type(x))\n",
    "\n",
    "#mais de uma variável na mesma linha\n",
    "cidade1, cidade2, cidade3 = 'São Paulo', 'Rio de Janeiro', 'Belo Horizonte'\n",
    "print(cidade1)\n",
    "print(cidade2)\n",
    "print(cidade3)\n",
    "\n",
    "#Operação matematica\n",
    "resultado = velocidade * 10\n",
    "print(resultado)\n",
    "\n",
    "velocidade + (4 * resultado) - distancia\n",
    "\n",
    "#concatenar variáveis\n",
    "primeiro_nome = 'Felipe'\n",
    "\n",
    "segundo_nome = 'Antunes'\n",
    "\n",
    "terceiro_nome = 'Campos'\n",
    "\n",
    "nome_completo = primeiro_nome + ' ' + segundo_nome + ' ' + terceiro_nome\n",
    "\n",
    "print(nome_completo)\n",
    "print(type(nome_completo))\n",
    "\n",
    "#Soma\n",
    "a = 10\n",
    "b = 20\n",
    "soma = a + b\n",
    "print(soma)"
   ]
  },
  {
   "cell_type": "code",
   "execution_count": 25,
   "metadata": {
    "colab": {
     "base_uri": "https://localhost:8080/"
    },
    "executionInfo": {
     "elapsed": 43,
     "status": "ok",
     "timestamp": 1747267368360,
     "user": {
      "displayName": "felipe antunes campos",
      "userId": "10583598536141057473"
     },
     "user_tz": 180
    },
    "id": "lT22FlT0Ie1L",
    "outputId": "4afeb74d-0453-42db-80ae-ee1a4854ac8e"
   },
   "outputs": [
    {
     "name": "stdout",
     "output_type": "stream",
     "text": [
      "A temperatura de25graus Celsius é igual a 77.0 graus Fahrenheit.\n"
     ]
    }
   ],
   "source": [
    "#Exercicio celsius para fahrenheit\n",
    "celsius = 25\n",
    "fahrenheit  = (celsius * 9/5) + 32\n",
    "print(\"A temperatura de\" + str(celsius) + \"graus Celsius é igual a \" + str(fahrenheit) + \" graus Fahrenheit.\")\n"
   ]
  },
  {
   "cell_type": "code",
   "execution_count": 30,
   "metadata": {
    "colab": {
     "base_uri": "https://localhost:8080/"
    },
    "executionInfo": {
     "elapsed": 8,
     "status": "ok",
     "timestamp": 1747267696537,
     "user": {
      "displayName": "felipe antunes campos",
      "userId": "10583598536141057473"
     },
     "user_tz": 180
    },
    "id": "9m7Po_tgHPIL",
    "outputId": "9c48eda1-1934-4b6e-b3fe-a9864a20b863"
   },
   "outputs": [
    {
     "name": "stdout",
     "output_type": "stream",
     "text": [
      "O salário bruto é de 3000 reais O desconto do INSS é de 240 Reais O salário liquido é de 2760 Reais \n"
     ]
    }
   ],
   "source": [
    "#desafio\n",
    "\n",
    "salario_bruto = 3000\n",
    "inss = salario_bruto * 0.08\n",
    "salario_liquido = salario_bruto - inss\n",
    "print(\"O salário bruto é de \" + str(int(salario_bruto)) + \" reais \" + \"O desconto do INSS é de \" + str(int(inss)) + \" Reais \" + \"O salário liquido é de \" + str(int(salario_liquido)) + \" Reais \")"
   ]
  },
  {
   "cell_type": "code",
   "execution_count": null,
   "metadata": {
    "id": "Nx08n9dpQ6Dr"
   },
   "outputs": [],
   "source": [
    "\n",
    "#1) Crie um programa que armazene o seu nome em uma variável e, em seguida, imprima uma mensagem de saudação personalizada.\n",
    "nome = \"Felipe\"\n",
    "print(\"Olá \" + str(nome) + \" Seja bem-vindo! \")\n",
    "\n",
    "#2)Crie um programa que armazene dois números em variáveis e imprima a soma desses números.\n",
    "numero_um = 34\n",
    "numero_dois = 14\n",
    "soma_numeros = numero_um + numero_dois\n",
    "print(\"A soma do número um + o número dois resulta em \" + str(soma_numeros))\n",
    "\n",
    "#3)Crie um programa que armazene uma mensagem inicial e outra final em variáveis. Em seguida, imprima a mensagem concatenada.\n",
    "mensagem_inicial = \"Cristiano Ronaldo é mais conhecido como\"\n",
    "mensagem_final = \"CR7\"\n",
    "print(mensagem_inicial + \" \" + mensagem_final)\n",
    "\n",
    "'''\n",
    "4)Uma agência de viagens pretende realizar um voo para as Bahamas. O custo de operação do\n",
    "avião é de 5.000 dólares. Até o momento, 29 pessoas se inscreveram para a viagem. Se a\n",
    "agência cobra 200 dólares por passagem, qual será o lucro obtido pela empresa? Crie\n",
    "variáveis para representar cada quantidade numérica e utilize operações aritméticas\n",
    "apropriadas.\n",
    "'''\n",
    "custo_operacao = 5000 #Dólares\n",
    "pessoas = 29\n",
    "passagem = 200\n",
    "valor_bruto = passagem * pessoas #Valor bruto passagem x pessoas\n",
    "valor_liquido = valor_bruto - custo_operacao #Valor bruto menos o custo de operação\n",
    "print('O lucro obtido pela empresa será de ' + str(valor_liquido) + ' dólares')\n",
    "\n",
    "'''\n",
    "5) Na Escola Senai, a turma de Informática está organizando um evento online. Eles decidiram\n",
    "vender camisetas personalizadas para arrecadar fundos. Cada camiseta custa 25 reais, e a\n",
    "turma planeja vender 50 camisetas. Crie um programa simples em Python que utilize\n",
    "variáveis para representar o preço da camiseta, a quantidade planejada de camisetas para\n",
    "venda e calcule o total arrecadado pela turma. Em seguida, imprima o resultado.\n",
    "'''\n",
    "\n",
    "preco_camiseta = 25\n",
    "quantidade_planejada_venda = 50\n",
    "total_arrecadado = preco_camiseta * quantidade_planejada_venda\n",
    "print(\"O Valor total arrecadado pela turma será de \" + str(total_arrecadado) + \" reais\")"
   ]
  },
  {
   "cell_type": "code",
   "execution_count": 35,
   "metadata": {
    "executionInfo": {
     "elapsed": 9,
     "status": "ok",
     "timestamp": 1747269158189,
     "user": {
      "displayName": "felipe antunes campos",
      "userId": "10583598536141057473"
     },
     "user_tz": 180
    },
    "id": "MyOAAS7XWDzs"
   },
   "outputs": [],
   "source": []
  }
 ],
 "metadata": {
  "colab": {
   "authorship_tag": "ABX9TyNd/47xGw/lY516fjc/1lsf",
   "provenance": []
  },
  "kernelspec": {
   "display_name": "Python 3",
   "name": "python3"
  },
  "language_info": {
   "name": "python"
  }
 },
 "nbformat": 4,
 "nbformat_minor": 0
}
